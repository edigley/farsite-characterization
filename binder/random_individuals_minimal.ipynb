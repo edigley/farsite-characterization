{
 "cells": [
  {
   "cell_type": "code",
   "execution_count": null,
   "metadata": {},
   "outputs": [],
   "source": [
    "library(msm)        # random numbers generation\n",
    "library(tidyverse)  # \n",
    "library(tidyr)      # \n",
    "library(ggplot2)    # plotting"
   ]
  },
  {
   "cell_type": "code",
   "execution_count": null,
   "metadata": {},
   "outputs": [],
   "source": [
    "# loads individuals run results data set\n",
    "results <- read.table('https://raw.githubusercontent.com/edigley/spif/master/results/farsite_individuals_runtime_jonquera.txt', header=T)\n",
    "ds <- subset(results, select=c(paste(\"p\", 0:9, sep=\"\"), \"runtime\", \"maxRSS\"))\n",
    "\n",
    "# extract only the main features\n",
    "params <- c(\"p_1h\", \"p_10h\", \"p_100h\", \"p_herb\", \"p_1000h\", \"p_ws\", \"p_wd\", \"p_th\", \"p_hh\", \"p_adj\")\n",
    "colnames(ds) <- c(params, \"runtime\", \"maxRSS\")"
   ]
  }
 ],
 "metadata": {
  "kernelspec": {
   "display_name": "R",
   "language": "R",
   "name": "ir"
  },
  "language_info": {
   "codemirror_mode": "r",
   "file_extension": ".r",
   "mimetype": "text/x-r-source",
   "name": "R",
   "pygments_lexer": "r",
   "version": "3.4.4"
  }
 },
 "nbformat": 4,
 "nbformat_minor": 2
}
